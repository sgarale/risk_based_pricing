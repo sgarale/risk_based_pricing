{
 "cells": [
  {
   "cell_type": "code",
   "execution_count": 1,
   "metadata": {},
   "outputs": [],
   "source": [
    "import pickle\n",
    "import os\n",
    "import numpy as np\n",
    "from IPython.display import clear_output\n",
    "import matplotlib.pyplot as plt\n",
    "import sys\n",
    "sys.path.append(\"../\")\n",
    "import utils as ut"
   ]
  },
  {
   "cell_type": "code",
   "execution_count": 2,
   "metadata": {},
   "outputs": [],
   "source": [
    "# numpy seed setup\n",
    "seed = 29\n",
    "np.random.seed(seed)"
   ]
  },
  {
   "cell_type": "code",
   "execution_count": 3,
   "metadata": {},
   "outputs": [],
   "source": [
    "# loading the trained models\n",
    "line_styles = ['-', '--', '-.', ':', (5, (10, 3)), (0,(3,5,1,5,1,5)) , (0, (1, 1))]\n",
    "alpha_list = [1]\n",
    "models_bid = {}\n",
    "for al in alpha_list:\n",
    "    model_label = \"butterfly_sub_bid_fine_alpha_\" + str(al)\n",
    "    model_dict_dir = os.path.join(os.path.pardir, \"output\", model_label)\n",
    "    with open(os.path.join(model_dict_dir, \"trained_model.pkl\"), 'rb') as pickle_file:\n",
    "        models_bid[al] = pickle.load(pickle_file)\n",
    "\n",
    "models_ask = {}\n",
    "for al in alpha_list:\n",
    "    model_label = \"butterfly_sub_alpha_\" + str(al)\n",
    "    model_dict_dir = os.path.join(os.path.pardir, \"output\", model_label)\n",
    "    with open(os.path.join(model_dict_dir, \"trained_model.pkl\"), 'rb') as pickle_file:\n",
    "        models_ask[al] = pickle.load(pickle_file)\n",
    "\n",
    "# loading the G-expectation bid bound\n",
    "model_label = \"butterfly_G_exp_bid_0.15\"\n",
    "model_dict_dir = os.path.join(os.path.pardir, \"output\", model_label)\n",
    "with open(os.path.join(model_dict_dir, \"trained_model.pkl\"), 'rb') as pickle_file:\n",
    "    models_bid['Gexp'] = pickle.load(pickle_file)\n",
    "\n",
    "# loading the G-expectation ask bound\n",
    "model_label = \"butterfly_G_exp_0.15\"\n",
    "model_dict_dir = os.path.join(os.path.pardir, \"output\", model_label)\n",
    "with open(os.path.join(model_dict_dir, \"trained_model.pkl\"), 'rb') as pickle_file:\n",
    "    models_ask['Gexp'] = pickle.load(pickle_file)"
   ]
  },
  {
   "cell_type": "code",
   "execution_count": 4,
   "metadata": {},
   "outputs": [],
   "source": [
    "# setting latex style for plots\n",
    "plt.rcParams['text.usetex'] = True\n",
    "plt.rcParams['font.size'] = 13\n",
    "plt.rcParams['legend.fontsize'] = 12"
   ]
  },
  {
   "cell_type": "code",
   "execution_count": null,
   "metadata": {},
   "outputs": [],
   "source": [
    "x_plot = np.arange(0.8, 1.21, 0.01)\n",
    "\n",
    "# plotting the option payoff\n",
    "option = models_bid[1][\"option\"]\n",
    "plt.plot(x_plot, option.payoff(x_plot), label='Payoff')\n",
    "\n",
    "# plotting the worst case bounds\n",
    "plt.plot(x_plot, np.interp(x_plot, models_bid['Gexp']['x_I'], models_bid['Gexp']['I_trained'][models_bid['Gexp']['step_nr']]), label='Bid worst-case')\n",
    "plt.plot(x_plot, np.interp(x_plot, models_ask['Gexp']['x_I'], models_ask['Gexp']['I_trained'][models_ask['Gexp']['step_nr']]), label='Ask worst-case')\n",
    "\n",
    "# plotting the risk-based prices\n",
    "for j, al in enumerate(alpha_list):\n",
    "    plt.plot(x_plot, np.interp(x_plot, models_bid[al]['x_I'], models_bid[al]['I_trained'][models_bid[al]['step_nr']]), linestyle=line_styles[j+1], label=r'Bid $\\alpha=$'+f' {al}')\n",
    "    plt.plot(x_plot, np.interp(x_plot, models_ask[al]['x_I'], models_ask[al]['I_trained'][models_ask[al]['step_nr']]), linestyle=line_styles[j+1], label=r'Ask $\\alpha=$'+f' {al}')\n",
    "\n",
    "plt.xlabel(f\"$x$\")\n",
    "legend = plt.legend(loc='upper left')\n",
    "legend.get_frame().set_alpha(1.)\n",
    "plt.tight_layout()\n",
    "plt.show()"
   ]
  }
 ],
 "metadata": {
  "kernelspec": {
   "display_name": "risk-pricing-env",
   "language": "python",
   "name": "python3"
  },
  "language_info": {
   "codemirror_mode": {
    "name": "ipython",
    "version": 3
   },
   "file_extension": ".py",
   "mimetype": "text/x-python",
   "name": "python",
   "nbconvert_exporter": "python",
   "pygments_lexer": "ipython3",
   "version": "3.9.7"
  },
  "orig_nbformat": 4
 },
 "nbformat": 4,
 "nbformat_minor": 2
}
