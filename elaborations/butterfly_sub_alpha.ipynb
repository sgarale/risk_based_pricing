{
 "cells": [
  {
   "cell_type": "code",
   "execution_count": 1,
   "metadata": {},
   "outputs": [],
   "source": [
    "import time\n",
    "import pickle\n",
    "import os\n",
    "import numpy as np\n",
    "from IPython.display import clear_output\n",
    "import matplotlib.pyplot as plt\n",
    "import sys\n",
    "sys.path.append(\"../\")\n",
    "import options\n",
    "import processes\n",
    "import utils as ut"
   ]
  },
  {
   "cell_type": "code",
   "execution_count": 2,
   "metadata": {},
   "outputs": [],
   "source": [
    "# numpy seed setup\n",
    "seed = 29\n",
    "np.random.seed(seed)"
   ]
  },
  {
   "cell_type": "code",
   "execution_count": 3,
   "metadata": {},
   "outputs": [],
   "source": [
    "# loading the trained models\n",
    "line_styles = ['-', '--', '-.', ':', (5, (10, 3)), (0,(3,5,1,5,1,5)) , (0, (1, 1))]\n",
    "alpha_list = [1, 2, 5, 10, 50, 100]\n",
    "models = {}\n",
    "for al in alpha_list:\n",
    "    model_label = \"butterfly_sub_alpha_\" + str(al)\n",
    "    model_dict_dir = os.path.join(os.path.pardir, \"output\", model_label)\n",
    "    with open(os.path.join(model_dict_dir, \"trained_model.pkl\"), 'rb') as pickle_file:\n",
    "        models[al] = pickle.load(pickle_file)\n",
    "\n",
    "# loading the G-expectation\n",
    "model_label = \"butterfly_G_exp_0.15\"\n",
    "model_dict_dir = os.path.join(os.path.pardir, \"output\", model_label)\n",
    "with open(os.path.join(model_dict_dir, \"trained_model.pkl\"), 'rb') as pickle_file:\n",
    "    models['Gexp'] = pickle.load(pickle_file)"
   ]
  },
  {
   "cell_type": "code",
   "execution_count": 4,
   "metadata": {},
   "outputs": [],
   "source": [
    "# setting latex style for plots\n",
    "plt.rcParams['text.usetex'] = True\n",
    "plt.rcParams['font.size'] = 13\n",
    "plt.rcParams['legend.fontsize'] = 12"
   ]
  },
  {
   "cell_type": "code",
   "execution_count": null,
   "metadata": {},
   "outputs": [],
   "source": [
    "option = models[list(models.keys())[0]][\"option\"]\n",
    "print(f\"Maturity: {models[list(models.keys())[0]]['maturity']}\")\n",
    "\n",
    "x_plot = np.arange(0.8, 1.21, 0.01)\n",
    "plt.plot(x_plot, option.payoff(x_plot))\n",
    "for j, al in enumerate(alpha_list[:4]):\n",
    "    plt.plot(x_plot, np.interp(x_plot, models[al]['x_I'], models[al]['I_trained'][models[al]['step_nr']]), linestyle=line_styles[j], label=r'$\\alpha=$'+f' {al}')\n",
    "plt.plot(x_plot, np.interp(x_plot, models['Gexp']['x_I'], models['Gexp']['I_trained'][models['Gexp']['step_nr']]), linestyle=line_styles[j + 1], label=r'$G$-expectation')\n",
    "plt.xlabel(f\"$x$\")\n",
    "plt.ylabel('Ask price')\n",
    "legend = plt.legend(loc='upper left')\n",
    "legend.get_frame().set_alpha(1.)\n",
    "plt.tight_layout()\n",
    "plt.show()"
   ]
  },
  {
   "cell_type": "code",
   "execution_count": null,
   "metadata": {},
   "outputs": [],
   "source": [
    "option = models[list(models.keys())[0]][\"option\"]\n",
    "print(f\"Maturity: {models[list(models.keys())[0]]['maturity']}\")\n",
    "\n",
    "x_plot = np.arange(0.8, 1.21, 0.01)\n",
    "for j, al in enumerate(alpha_list):\n",
    "    plt.plot(x_plot, np.interp(x_plot, models[al]['x_I'], models[al]['I_trained'][models[al]['step_nr']]), linestyle=line_styles[j], label=r'$\\alpha=$'+f' {al}')\n",
    "plt.plot(x_plot, np.interp(x_plot, models['Gexp']['x_I'], models['Gexp']['I_trained'][models['Gexp']['step_nr']]), linestyle=line_styles[j + 1], label=r'$G$-expectation')\n",
    "plt.xlabel(f\"$x$\")\n",
    "plt.ylabel('Ask price')\n",
    "legend = plt.legend(loc='lower left', bbox_to_anchor=(0.34,0))\n",
    "legend.get_frame().set_alpha(1.)\n",
    "plt.tight_layout()\n",
    "plt.show()"
   ]
  }
 ],
 "metadata": {
  "kernelspec": {
   "display_name": "risk-pricing-env",
   "language": "python",
   "name": "python3"
  },
  "language_info": {
   "codemirror_mode": {
    "name": "ipython",
    "version": 3
   },
   "file_extension": ".py",
   "mimetype": "text/x-python",
   "name": "python",
   "nbconvert_exporter": "python",
   "pygments_lexer": "ipython3",
   "version": "3.9.7"
  },
  "orig_nbformat": 4
 },
 "nbformat": 4,
 "nbformat_minor": 2
}
