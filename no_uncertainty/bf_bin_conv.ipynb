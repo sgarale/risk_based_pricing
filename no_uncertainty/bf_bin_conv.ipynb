{
 "cells": [
  {
   "cell_type": "code",
   "execution_count": 1,
   "metadata": {},
   "outputs": [],
   "source": [
    "import time\n",
    "import pickle\n",
    "import os\n",
    "import numpy as np\n",
    "import pandas as pd\n",
    "from IPython.display import clear_output\n",
    "import matplotlib.pyplot as plt\n",
    "import sys\n",
    "sys.path.append(\"../\")\n",
    "import options\n",
    "import expectations\n",
    "import iterators\n",
    "import utils as ut"
   ]
  },
  {
   "cell_type": "code",
   "execution_count": 2,
   "metadata": {},
   "outputs": [],
   "source": [
    "# numpy seed setup\n",
    "seed = 29\n",
    "np.random.seed(seed)"
   ]
  },
  {
   "cell_type": "code",
   "execution_count": 3,
   "metadata": {
    "tags": []
   },
   "outputs": [],
   "source": [
    "############# run parameters ###############\n",
    "run_id = 'butterfly_bin_fine'\n",
    "S0 = 1.\n",
    "alpha = 1.  # risk aversion parameter\n",
    "bf_level = 0.1 # higher payoff of the butterfly option\n",
    "sigma = .20 # volatility of the process (absolute)\n",
    "m = .05   # drift of the process (absolute)\n",
    "T = .5 # maturity\n",
    "step_nr = 200 # steps in the discretization\n",
    "delta_x = 0.01 # step size of the spatial discretization\n",
    "drop_optim = False # set to True to save the plots of the optimizers at each step"
   ]
  },
  {
   "cell_type": "code",
   "execution_count": 4,
   "metadata": {},
   "outputs": [],
   "source": [
    "# expectation factory\n",
    "def make_expect():\n",
    "    return expectations.binomial_model(sigma=sigma)\n",
    "\n",
    "# defining the risk measure\n",
    "step_size = T / step_nr\n",
    "rho_theta = expectations.RhoThetaCertain(alpha=alpha, m=m, t=step_size)\n",
    "\n",
    "# defining the option\n",
    "option = options.ButterflyOption(strike=S0, level=bf_level)"
   ]
  },
  {
   "cell_type": "code",
   "execution_count": null,
   "metadata": {},
   "outputs": [],
   "source": [
    "# defining the spatial grid\n",
    "error_propagation = np.absolute(m) * T + sigma * np.sqrt(T * step_nr)\n",
    "print(f\"Error propagation from the bounds of the space interval: {error_propagation:.3f}\")\n",
    "\n",
    "# initializing the space discretization\n",
    "x_levels = S0 + np.arange(-.25 - error_propagation, .26 + error_propagation, delta_x)\n",
    "print(f\"Range of the space discretization: [{np.round(x_levels[0], 3)}, {np.round(x_levels[-1], 3)}]. Discretization step: {np.round(x_levels[1] - x_levels[0], 3)}. Number of points: {x_levels.shape[0]}\")\n",
    "\n",
    "# initializing the space discretization for the fine interpolation\n",
    "x_fine = S0 + np.arange(-.25 - error_propagation, .25 + error_propagation, 0.001)\n",
    "print(f\"Range of the fine space discretization: [{np.round(x_fine[0], 3)}, {np.round(x_fine[-1], 3)}]. Discretization step: {np.round(x_fine[1] - x_fine[0], 3)}. Number of points: {x_fine.shape[0]}\")\n",
    "\n",
    "# plot coordinates\n",
    "x_plot = S0 + np.arange(-.25, .26, 0.01)"
   ]
  },
  {
   "cell_type": "code",
   "execution_count": 6,
   "metadata": {},
   "outputs": [],
   "source": [
    "# performing the iteration\n",
    "iter_dict, theta_dict, expect_dict = iterators.certain_iterations(x_levels=x_levels, x_fine=x_fine, option=option, step_nr=step_nr, rho_theta=rho_theta, make_expect=make_expect)"
   ]
  },
  {
   "cell_type": "code",
   "execution_count": 7,
   "metadata": {},
   "outputs": [],
   "source": [
    "# setting latex style for plots\n",
    "plt.rcParams['text.usetex'] = True\n",
    "plt.rcParams['font.size'] = 13\n",
    "plt.rcParams['legend.fontsize'] = 13"
   ]
  },
  {
   "cell_type": "markdown",
   "metadata": {},
   "source": [
    "Plotting the resulting approximated $S(T)f$."
   ]
  },
  {
   "cell_type": "code",
   "execution_count": null,
   "metadata": {},
   "outputs": [],
   "source": [
    "bachelier_levels = option.bachelier_price(x_plot, T, sigma)\n",
    "model_levels = np.interp(x_plot, x_fine, iter_dict[step_nr])\n",
    "\n",
    "plt.plot(x_plot, option.payoff(x_plot), color='blue', label=f'$f$')\n",
    "plt.plot(x_plot, model_levels, color='green', label=r'$I(T/n)^nf$')\n",
    "plt.plot(x_plot, bachelier_levels, color='red', linestyle='--', label=f'Bachelier price')\n",
    "plt.xlabel('$x$')\n",
    "plt.legend()\n",
    "plt.tight_layout()\n",
    "plt.show()\n",
    "\n",
    "print(f\"Mean square error: {np.mean(np.power(model_levels - bachelier_levels, 2)):.4e}\")"
   ]
  },
  {
   "cell_type": "code",
   "execution_count": 9,
   "metadata": {},
   "outputs": [],
   "source": [
    "if drop_optim:\n",
    "    # checking (or creating) the output folder\n",
    "    plots_dir = os.path.join(os.path.pardir,'output', run_id, 'optimizers')\n",
    "    ut.check_dir(plots_dir)\n",
    "\n",
    "    # plotting the hedging strategy and the worst-case volatility at each step of the iteration\n",
    "    for i in range(1, step_nr + 1):\n",
    "\n",
    "        hedging = np.interp(x_plot, x_levels, theta_dict[i])\n",
    "        plt.plot(x_plot, hedging, color='tab:blue')\n",
    "        plt.xlabel('$S$')\n",
    "        plt.ylabel(r'$\\theta^*$')\n",
    "        plt.tight_layout()\n",
    "        plt.savefig(os.path.join(plots_dir, f'iteration_{i:3d}.png'), bbox_inches='tight')\n",
    "        plt.close()"
   ]
  },
  {
   "cell_type": "code",
   "execution_count": 10,
   "metadata": {},
   "outputs": [],
   "source": [
    "# saving the trading strategy and the iterations for later use\n",
    "dict_dir = os.path.join(os.path.pardir,'output', run_id)\n",
    "out_dict = {\n",
    "    \"option\": option,\n",
    "    \"maturity\": T,\n",
    "    \"step_nr\": step_nr,\n",
    "    \"training_model\": make_expect().model,\n",
    "    \"delta_x\": delta_x,\n",
    "    \"x_theta\": x_levels,\n",
    "    \"theta_trained\": theta_dict,\n",
    "    \"x_I\": x_fine,\n",
    "    \"I_trained\": iter_dict\n",
    "}\n",
    "\n",
    "# checking (or creating) the output folder\n",
    "out_dir = os.path.join(os.path.pardir,'output', run_id)\n",
    "ut.check_dir(out_dir)\n",
    "\n",
    "# Save the dictionary to a pickle binary file\n",
    "with open(os.path.join(dict_dir,'trained_model.pkl'), 'wb') as pickle_file:\n",
    "    pickle.dump(out_dict, pickle_file)"
   ]
  }
 ],
 "metadata": {
  "kernelspec": {
   "display_name": "risk-pricing-env",
   "language": "python",
   "name": "python3"
  },
  "language_info": {
   "codemirror_mode": {
    "name": "ipython",
    "version": 3
   },
   "file_extension": ".py",
   "mimetype": "text/x-python",
   "name": "python",
   "nbconvert_exporter": "python",
   "pygments_lexer": "ipython3",
   "version": "3.9.7"
  },
  "orig_nbformat": 4
 },
 "nbformat": 4,
 "nbformat_minor": 2
}
