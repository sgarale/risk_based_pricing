{
 "cells": [
  {
   "cell_type": "code",
   "execution_count": 1,
   "metadata": {},
   "outputs": [],
   "source": [
    "import time\n",
    "import pickle\n",
    "import os\n",
    "import numpy as np\n",
    "import pandas as pd\n",
    "from IPython.display import clear_output\n",
    "import matplotlib.pyplot as plt\n",
    "import sys\n",
    "sys.path.append(\"../\")\n",
    "import options\n",
    "import expectations\n",
    "import iterators\n",
    "import utils as ut"
   ]
  },
  {
   "cell_type": "code",
   "execution_count": 2,
   "metadata": {},
   "outputs": [],
   "source": [
    "# numpy seed setup\n",
    "seed = 29\n",
    "np.random.seed(seed)"
   ]
  },
  {
   "cell_type": "code",
   "execution_count": 3,
   "metadata": {
    "tags": []
   },
   "outputs": [],
   "source": [
    "############# run parameters ###############\n",
    "run_id = 'butterfly_conv_'\n",
    "S0 = 1.\n",
    "alpha = .1  # risk aversion parameter\n",
    "bf_level = 0.1 # higher payoff of the butterfly option\n",
    "sigma = .20 # volatility of the process (absolute)\n",
    "m = .05   # drift of the process (absolute)\n",
    "T = .5 # maturity\n",
    "step_nr = 100 # steps in the discretization\n",
    "delta_x = 0.01 # step size of the spatial discretization\n",
    "drop_optim = False # set to True to save the plots of the optimizers at each step"
   ]
  },
  {
   "cell_type": "code",
   "execution_count": 15,
   "metadata": {},
   "outputs": [],
   "source": [
    "# Defining the list of models and the factory of the expectations\n",
    "models = [\"Binomial\", \"Trinomial\", \"Uniform\"]\n",
    "# expectation factory\n",
    "class ExpectFactory:\n",
    "\n",
    "    def __init__(self, model, sigma):\n",
    "        self.model = model\n",
    "        self.sigma = sigma\n",
    "    \n",
    "    def make_expect(self):\n",
    "        if self.model == \"Binomial\": return expectations.binomial_model(sigma=self.sigma)\n",
    "        elif self.model == \"Trinomial\": return expectations.trinomial_model(sigma=self.sigma)\n",
    "        elif self.model == \"Uniform\": return expectations.uniform_model(sigma=self.sigma)\n",
    "        elif self.model == \"Normal\": return expectations.normal_model(sigma=self.sigma)\n",
    "\n",
    "# defining the risk measure\n",
    "step_size = T / step_nr\n",
    "rho_theta = expectations.RhoThetaCertain(alpha=alpha, m=m, t=step_size)\n",
    "\n",
    "# defining the option\n",
    "option = options.ButterflyOption(strike=S0, level=bf_level)"
   ]
  },
  {
   "cell_type": "markdown",
   "metadata": {},
   "source": [
    "Iterating on the models and computing the discrete approximation of the pricing functional."
   ]
  },
  {
   "cell_type": "code",
   "execution_count": null,
   "metadata": {},
   "outputs": [],
   "source": [
    "for model in models:\n",
    "    \n",
    "    model_factory = ExpectFactory(model=model, sigma=sigma)\n",
    "    model_tmp = model_factory.make_expect()\n",
    "\n",
    "    print(f\"---- Elaboration for {model} model.\")\n",
    "    \n",
    "    run_id_model = run_id + model_tmp.model\n",
    "\n",
    "    # defining the spatial grid\n",
    "    error_propagation = np.absolute(m) * T + model.error_prop() * np.sqrt(T * step_nr)\n",
    "    print(f\"Error propagation from the bounds of the space interval: {error_propagation:.3f}\")\n",
    "\n",
    "    # initializing the space discretization\n",
    "    x_levels = S0 + np.arange(-.25 - error_propagation, .26 + error_propagation, delta_x)\n",
    "    print(f\"Range of the space discretization: [{np.round(x_levels[0], 3)}, {np.round(x_levels[-1], 3)}]. Discretization step: {np.round(x_levels[1] - x_levels[0], 3)}. Number of points: {x_levels.shape[0]}\")\n",
    "\n",
    "    # initializing the space discretization for the fine interpolation\n",
    "    x_fine = S0 + np.arange(-.25 - error_propagation, .25 + error_propagation, 0.001)\n",
    "    print(f\"Range of the fine space discretization: [{np.round(x_fine[0], 3)}, {np.round(x_fine[-1], 3)}]. Discretization step: {np.round(x_fine[1] - x_fine[0], 3)}. Number of points: {x_fine.shape[0]}\")\n",
    "\n",
    "    # plot coordinates\n",
    "    x_plot = S0 + np.arange(-.25, .26, 0.01)\n",
    "\n",
    "    # performing the iteration\n",
    "    iter_dict, theta_dict, expect_dict = iterators.certain_iterations(x_levels=x_levels, x_fine=x_fine, option=option, step_nr=step_nr, rho_theta=rho_theta, make_expect=model_factory.make_expect)\n",
    "\n",
    "    # setting latex style for plots\n",
    "    plt.rcParams['text.usetex'] = True\n",
    "    plt.rcParams['font.size'] = 13\n",
    "    plt.rcParams['legend.fontsize'] = 13\n",
    "    \n",
    "    # dropping the optimizers at each step\n",
    "    if drop_optim:\n",
    "        # checking (or creating) the output folder\n",
    "        plots_dir = os.path.join(os.path.pardir,'output', run_id_model, 'optimizers')\n",
    "        ut.check_dir(plots_dir)\n",
    "\n",
    "        # plotting the hedging strategy at each step of the iteration\n",
    "        for i in range(1, step_nr + 1):\n",
    "\n",
    "            hedging = np.interp(x_plot, x_levels, theta_dict[i])\n",
    "            plt.plot(x_plot, hedging, color='tab:blue')\n",
    "            plt.xlabel('$S$')\n",
    "            plt.ylabel(r'$\\theta^*$')\n",
    "            plt.tight_layout()\n",
    "            plt.savefig(os.path.join(plots_dir, f'iteration_{i:3d}.png'), bbox_inches='tight')\n",
    "            plt.close()\n",
    "\n",
    "    # saving the trading strategy and the iterations for later use\n",
    "    dict_dir = os.path.join(os.path.pardir,'output', run_id_model)\n",
    "    out_dict = {\n",
    "        \"option\": option,\n",
    "        \"maturity\": T,\n",
    "        \"step_nr\": step_nr,\n",
    "        \"training_model\": model_tmp.model,\n",
    "        \"delta_x\": delta_x,\n",
    "        \"x_theta\": x_levels,\n",
    "        \"theta_trained\": theta_dict,\n",
    "        \"x_I\": x_fine,\n",
    "        \"I_trained\": iter_dict\n",
    "    }\n",
    "\n",
    "    # checking (or creating) the output folder\n",
    "    ut.check_dir(dict_dir)\n",
    "\n",
    "    # Save the dictionary to a pickle binary file\n",
    "    with open(os.path.join(dict_dir,'trained_model.pkl'), 'wb') as pickle_file:\n",
    "        pickle.dump(out_dict, pickle_file)"
   ]
  },
  {
   "cell_type": "markdown",
   "metadata": {},
   "source": [
    "Loading the models. Once the models are created, the previous cell can be omitted in following elaborations and we can directly work on the output of the first elaboration."
   ]
  },
  {
   "cell_type": "code",
   "execution_count": 16,
   "metadata": {},
   "outputs": [],
   "source": [
    "# loading the trained models\n",
    "line_styles = ['--', '-.', ':', (5, (10, 3)), (0,(3,5,1,5,1,5)), (0, (1, 1))]\n",
    "models_dict = {}\n",
    "for mod in models:\n",
    "    model_label = \"butterfly_conv_\" + mod\n",
    "    model_dict_dir = os.path.join(os.path.pardir, \"output\", model_label)\n",
    "    with open(os.path.join(model_dict_dir, \"trained_model.pkl\"), 'rb') as pickle_file:\n",
    "        models_dict[mod] = pickle.load(pickle_file)"
   ]
  },
  {
   "cell_type": "markdown",
   "metadata": {},
   "source": [
    "Plotting the resulting approximated $S(T)f$ with respect to the different models."
   ]
  },
  {
   "cell_type": "code",
   "execution_count": 17,
   "metadata": {},
   "outputs": [],
   "source": [
    "# setting latex style for plots\n",
    "plt.rcParams['text.usetex'] = True\n",
    "plt.rcParams['font.size'] = 13\n",
    "plt.rcParams['legend.fontsize'] = 13"
   ]
  },
  {
   "cell_type": "code",
   "execution_count": null,
   "metadata": {},
   "outputs": [],
   "source": [
    "# plot coordinates\n",
    "x_plot = S0 * (1 + np.arange(-.25, .26, 0.01))\n",
    "\n",
    "# plotting Bachelier prices\n",
    "bachelier_levels = option.bachelier_price(x_plot, T, sigma)\n",
    "plt.plot(x_plot, bachelier_levels, label=\"Bachelier\")\n",
    "\n",
    "# plotting simulated prices with different levels\n",
    "for j, mod in enumerate(models):\n",
    "    \n",
    "    models_dict[mod]['model_levels'] = np.interp(x_plot, models_dict[mod]['x_I'], models_dict[mod]['I_trained'][models_dict[mod]['step_nr']])\n",
    "    plt.plot(x_plot, models_dict[mod]['model_levels'], linestyle=line_styles[j], label=mod)\n",
    "    plt.xlabel(f\"$x$\")\n",
    "plt.legend()\n",
    "plt.tight_layout()\n",
    "plt.show()\n",
    "\n",
    "# printing the L2 error for the different models\n",
    "for mod in models:\n",
    "    print(f\"{mod} model mean square error: {np.mean(np.power(models_dict[mod]['model_levels'] - bachelier_levels, 2)):.4e}\")"
   ]
  },
  {
   "cell_type": "code",
   "execution_count": null,
   "metadata": {},
   "outputs": [],
   "source": [
    "# defining the range of the plot for the implied volatility\n",
    "x_vol_mask = (x_plot >= (0.75 * S0)) * (x_plot <= (1.25 * S0))\n",
    "x_vol_levels = x_plot[x_vol_mask]\n",
    "\n",
    "# computing and plotting the implied volatilities with respect to the Bachelier model\n",
    "bachelier_vols = [option.bach_implied_vol(bachelier_levels[x_vol_mask][i], x_vol_levels[i], T) for i in range(len(x_vol_levels))]\n",
    "plt.plot(x_vol_levels, bachelier_vols, color='green', label='Bachelier')\n",
    "\n",
    "# plotting the implied volatilites from the different models\n",
    "for j, mod in enumerate(models):\n",
    "    impl_vol_list = [option.bach_implied_vol(models_dict[mod]['model_levels'][x_vol_mask][i], x_vol_levels[i], T) for i in range(len(x_vol_levels))]\n",
    "    plt.plot(x_vol_levels, impl_vol_list, linestyle=line_styles[j], label=mod)\n",
    "    plt.xlabel('$x$')\n",
    "\n",
    "plt.ylabel(r\"$\\sigma^{\\rm Bach}$\")\n",
    "plt.legend()\n",
    "plt.tight_layout()\n",
    "plt.show()"
   ]
  },
  {
   "cell_type": "code",
   "execution_count": null,
   "metadata": {},
   "outputs": [],
   "source": [
    "# computing and plotting the implied volatilities with respect to the Blach-Scholes model\n",
    "bachelier_vols = [option.bs_implied_vol(bachelier_levels[x_vol_mask][i], x_vol_levels[i], T) for i in range(len(x_vol_levels))]\n",
    "plt.plot(x_vol_levels, bachelier_vols, color='green', label='Bachelier')\n",
    "\n",
    "# plotting the implied volatilites from the different models\n",
    "for j, mod in enumerate(models):\n",
    "    impl_vol_list = [option.bs_implied_vol(models_dict[mod]['model_levels'][x_vol_mask][i], x_vol_levels[i], T) for i in range(len(x_vol_levels))]\n",
    "    plt.plot(x_vol_levels, impl_vol_list, linestyle=line_styles[j], label=mod)\n",
    "    plt.xlabel('$x$')\n",
    "\n",
    "plt.ylabel(r\"$\\sigma^{\\rm BS}$\")\n",
    "plt.legend()\n",
    "plt.tight_layout()\n",
    "plt.show()"
   ]
  }
 ],
 "metadata": {
  "kernelspec": {
   "display_name": "risk-pricing-env",
   "language": "python",
   "name": "python3"
  },
  "language_info": {
   "codemirror_mode": {
    "name": "ipython",
    "version": 3
   },
   "file_extension": ".py",
   "mimetype": "text/x-python",
   "name": "python",
   "nbconvert_exporter": "python",
   "pygments_lexer": "ipython3",
   "version": "3.9.7"
  },
  "orig_nbformat": 4
 },
 "nbformat": 4,
 "nbformat_minor": 2
}
