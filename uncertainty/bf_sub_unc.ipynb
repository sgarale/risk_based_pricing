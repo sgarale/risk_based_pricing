{
 "cells": [
  {
   "cell_type": "code",
   "execution_count": 1,
   "metadata": {},
   "outputs": [],
   "source": [
    "import pickle\n",
    "import os\n",
    "import numpy as np\n",
    "import pandas as pd\n",
    "from IPython.display import clear_output\n",
    "import matplotlib.pyplot as plt\n",
    "import sys\n",
    "sys.path.append(\"../\")\n",
    "import options\n",
    "import expectations\n",
    "import iterators\n",
    "import utils as ut"
   ]
  },
  {
   "cell_type": "code",
   "execution_count": 2,
   "metadata": {},
   "outputs": [],
   "source": [
    "# numpy seed setup\n",
    "seed = 29\n",
    "np.random.seed(seed)"
   ]
  },
  {
   "cell_type": "code",
   "execution_count": 3,
   "metadata": {
    "tags": []
   },
   "outputs": [],
   "source": [
    "############# run parameters ###############\n",
    "run_id = 'butterfly_sub_unc'\n",
    "S0 = 1.\n",
    "alpha = 1.  # risk aversion parameter\n",
    "bf_level = 0.1 # higher payoff of the butterfly option\n",
    "sigma0 = .20 # central volatility (absolute)\n",
    "uncertainty = [0.05, 0.1, 0.15] # uncertainty level(s) - volatility range [(1-u)*sigma0,(1+u)*sigma0] \n",
    "m = .05   # drift of the process (absolute)\n",
    "T = .5 # maturity\n",
    "step_nr = 100 # steps in the discretization\n",
    "delta_x = 0.01 # step size of the spatial discretization\n",
    "opt_method = 'Nelder-Mead'\n",
    "drop_optim = False # set to True to save the plots of the optimizers at each step"
   ]
  },
  {
   "cell_type": "code",
   "execution_count": 4,
   "metadata": {},
   "outputs": [],
   "source": [
    "# defining the risk measure\n",
    "step_size = T / step_nr\n",
    "rho_theta = expectations.RhoTheta(alpha=alpha, m=m, t=step_size)\n",
    "\n",
    "# defining the option\n",
    "option = options.ButterflyOption(strike=S0, level=bf_level)\n",
    "\n",
    "# plot coordinates\n",
    "x_plot = S0 + np.arange(-.25, .26, 0.01)"
   ]
  },
  {
   "cell_type": "markdown",
   "metadata": {},
   "source": [
    "The following cell computes the pricing dynamics for all the levels of uncertainty given in the variable uncertainty. Skip this cell if you already computed and stored these pricing functionals."
   ]
  },
  {
   "cell_type": "code",
   "execution_count": null,
   "metadata": {},
   "outputs": [],
   "source": [
    "for unc in uncertainty:\n",
    "    print(f'----- Elaboration for uncertainty level {unc} -----')\n",
    "\n",
    "    unc_str = str(unc)\n",
    "    run_str = run_id + '_' + unc_str\n",
    "\n",
    "    # expectation factory\n",
    "    def make_expect():\n",
    "        return expectations.sub_binomial_model(sigma_l=(1 - unc) * sigma0, sigma_u=(1 + unc) * sigma0, opt_method=opt_method)\n",
    "\n",
    "    # defining the spatial grid\n",
    "    error_propagation = np.absolute(m) * T + (1 + unc) * sigma0 * np.sqrt(T * step_nr)\n",
    "    print(f\"Error propagation from the bounds of the space interval: {error_propagation:.3f}\")\n",
    "\n",
    "    # initializing the space discretization for the optimization\n",
    "    x_levels = S0 + np.arange(-.25 - error_propagation, .25 + delta_x + error_propagation, delta_x)\n",
    "    print(f\"Range of the space discretization: [{np.round(x_levels[0], 3)}, {np.round(x_levels[-1], 3)}]. Discretization step: {np.round(x_levels[1] - x_levels[0], 3)}. Number of points: {x_levels.shape[0]}\")\n",
    "\n",
    "    # initializing the space discretization for the fine interpolation\n",
    "    x_fine = S0 + np.arange(-.25 - error_propagation, .25 + error_propagation, 0.001)\n",
    "    print(f\"Range of the fine space discretization: [{np.round(x_fine[0], 3)}, {np.round(x_fine[-1], 3)}]. Discretization step: {np.round(x_fine[1] - x_fine[0], 3)}. Number of points: {x_fine.shape[0]}\")\n",
    "\n",
    "    # performing the iteration\n",
    "    iter_dict, theta_dict, expect_dict = iterators.unc_iterations(x_levels=x_levels, x_fine=x_fine, option=option, step_nr=step_nr, rho_theta=rho_theta, make_expect=make_expect)\n",
    "\n",
    "    if drop_optim:\n",
    "        # checking (or creating) the output folder\n",
    "        plots_dir = os.path.join(os.path.pardir,'output', run_str, 'optimizers')\n",
    "        ut.check_dir(plots_dir)\n",
    "\n",
    "        # plotting the hedging strategy and the worst-case volatility at each step of the iteration\n",
    "        for i in range(1, step_nr + 1):\n",
    "\n",
    "            hedging = - np.interp(x_plot, x_levels, theta_dict[i])\n",
    "            wc_vol = np.interp(x_plot, x_fine, expect_dict[i].vol_opt)\n",
    "\n",
    "            fig, ax1 = plt.subplots()\n",
    "            # plotting the first variable on the left axis\n",
    "            ax1.plot(x_plot, hedging, color='tab:blue')\n",
    "            ax1.set_xlabel('$S$')\n",
    "            ax1.set_ylabel(r'$\\theta^*$', color='tab:blue')\n",
    "            ax1.tick_params(axis='y', labelcolor='tab:blue')\n",
    "            # creating a second axis (right side) sharing the same x-axis\n",
    "            ax2 = ax1.twinx()\n",
    "            # plotting the second variable on the right axis\n",
    "            ax2.plot(x_plot, wc_vol, color='tab:orange', linestyle='--')\n",
    "            ax2.set_ylabel(r'$\\sigma^*$', color='tab:orange')\n",
    "            ax2.tick_params(axis='y', labelcolor='tab:orange')\n",
    "\n",
    "            plt.tight_layout()\n",
    "            plt.savefig(os.path.join(plots_dir, f'iteration_{i:3d}.png'), bbox_inches='tight')\n",
    "            plt.close()\n",
    "\n",
    "    # saving the trading strategy and the iterations for later use\n",
    "    dict_dir = os.path.join(os.path.pardir,'output', run_str)\n",
    "    out_dict = {\n",
    "        \"option\": option,\n",
    "        \"maturity\": T,\n",
    "        \"step_nr\": step_nr,\n",
    "        \"training_model\": make_expect().model,\n",
    "        \"delta_x\": delta_x,\n",
    "        \"optim method\": opt_method, \n",
    "        \"x_theta\": x_levels,\n",
    "        \"theta_trained\": theta_dict,\n",
    "        \"x_I\": x_fine,\n",
    "        \"I_trained\": iter_dict\n",
    "    }\n",
    "\n",
    "    # checking (or creating) the output folder\n",
    "    out_dir = os.path.join(os.path.pardir,'output', run_str)\n",
    "    ut.check_dir(out_dir)\n",
    "\n",
    "    # Save the dictionary to a pickle binary file\n",
    "    with open(os.path.join(dict_dir,'trained_model.pkl'), 'wb') as pickle_file:\n",
    "        pickle.dump(out_dict, pickle_file)"
   ]
  },
  {
   "cell_type": "markdown",
   "metadata": {},
   "source": [
    "Plotting the resulting approximated $S(T)f$ for the different uncertainty levels."
   ]
  },
  {
   "cell_type": "code",
   "execution_count": null,
   "metadata": {},
   "outputs": [],
   "source": [
    "# setting latex style for plots\n",
    "plt.rcParams['text.usetex'] = True\n",
    "plt.rcParams['font.size'] = 13\n",
    "plt.rcParams['legend.fontsize'] = 13\n",
    "\n",
    "line_styles = ['-', '--', '-.', ':', (5, (10, 3)), (0,(3,5,1,5,1,5)), (0, (1, 1))]\n",
    "\n",
    "bachelier_levels = option.bachelier_price(x_plot, T, sigma0)\n",
    "\n",
    "plt.plot(x_plot, bachelier_levels, color='red', linestyle=line_styles[0], label=r'$u = 0$')\n",
    "\n",
    "# temporary\n",
    "unc_conv_dict = {0.05: 0.01, 0.1: 0.02, 0.15: 0.03}\n",
    "for unc_id in range(len(uncertainty)):\n",
    "    \n",
    "    unc = uncertainty[unc_id]\n",
    "    model_label = run_id + '_' + str(unc)\n",
    "    model_dict_dir = os.path.join(os.path.pardir, \"output\", model_label)\n",
    "    \n",
    "    with open(os.path.join(model_dict_dir, \"trained_model.pkl\"), 'rb') as pickle_file:\n",
    "        model_tmp = pickle.load(pickle_file)\n",
    "    \n",
    "    model_levels = np.interp(x_plot, model_tmp['x_I'], model_tmp['I_trained'][step_nr])\n",
    "    plt.plot(x_plot, model_levels, linestyle=line_styles[unc_id + 1], label=r'$u=$' + f' {unc_conv_dict[unc]*100:.0f}\\%')\n",
    "\n",
    "plt.xlabel('$x$')\n",
    "plt.ylabel(\"Ask price\")\n",
    "plt.ylim([0.005,0.031]) # these are ad hoc bounds, they might be changed if some parameters in the elaboration change\n",
    "plt.legend()\n",
    "plt.tight_layout()\n",
    "plt.show()"
   ]
  },
  {
   "cell_type": "markdown",
   "metadata": {},
   "source": [
    "Plotting the implied volatility (for the Bachelier model) with respect to the different levels of uncertainty."
   ]
  },
  {
   "cell_type": "code",
   "execution_count": null,
   "metadata": {},
   "outputs": [],
   "source": [
    "line_styles = ['-', '--', '-.', ':', (5, (10, 3)), (0,(3,5,1,5,1,5)), (0, (1, 1))]\n",
    "\n",
    "bachelier_levels = option.bachelier_price(x_plot, T, sigma0)\n",
    "\n",
    "x_vol_mask = (x_plot >= 0.75) * (x_plot <= 1.25)\n",
    "\n",
    "x_vol_levels = x_plot[x_vol_mask]\n",
    "# computing the implied volatilities\n",
    "bachelier_vols = [option.bach_implied_vol(bachelier_levels[x_vol_mask][i], x_vol_levels[i], T, None) for i in range(len(x_vol_levels))]\n",
    "plt.plot(x_vol_levels, bachelier_vols, color='red', label=r'$u = 0$', linestyle=line_styles[0])\n",
    "\n",
    "for unc_id in range(len(uncertainty)):\n",
    "    \n",
    "    unc = uncertainty[unc_id]\n",
    "    model_label = run_id + '_' + str(unc)\n",
    "    model_dict_dir = os.path.join(os.path.pardir, \"output\", model_label)\n",
    "    \n",
    "    with open(os.path.join(model_dict_dir, \"trained_model.pkl\"), 'rb') as pickle_file:\n",
    "        model_tmp = pickle.load(pickle_file)\n",
    "\n",
    "    model_levels = np.interp(x_plot, model_tmp['x_I'], model_tmp['I_trained'][step_nr])\n",
    "    impl_vol_list = [option.bach_implied_vol(model_levels[x_vol_mask][i], x_vol_levels[i], T, None) for i in range(len(x_vol_levels))]\n",
    "    plt.plot(x_vol_levels, impl_vol_list, linestyle=line_styles[unc_id + 1], label=r'$u=$' + f' {unc}')\n",
    "    \n",
    "plt.xlabel('$x$')\n",
    "plt.ylabel(r\"$\\sigma^{\\rm Bach}$\")\n",
    "plt.legend(loc='upper left', bbox_to_anchor=(0.5,1))\n",
    "plt.tight_layout()\n",
    "plt.show()"
   ]
  }
 ],
 "metadata": {
  "kernelspec": {
   "display_name": "risk-pricing-env",
   "language": "python",
   "name": "python3"
  },
  "language_info": {
   "codemirror_mode": {
    "name": "ipython",
    "version": 3
   },
   "file_extension": ".py",
   "mimetype": "text/x-python",
   "name": "python",
   "nbconvert_exporter": "python",
   "pygments_lexer": "ipython3",
   "version": "3.9.7"
  },
  "orig_nbformat": 4
 },
 "nbformat": 4,
 "nbformat_minor": 2
}
